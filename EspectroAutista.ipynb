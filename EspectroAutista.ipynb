{
  "nbformat": 4,
  "nbformat_minor": 0,
  "metadata": {
    "colab": {
      "provenance": [],
      "authorship_tag": "ABX9TyMkuaH8xqKKreqkoSj6FGnX",
      "include_colab_link": true
    },
    "kernelspec": {
      "name": "python3",
      "display_name": "Python 3"
    },
    "language_info": {
      "name": "python"
    }
  },
  "cells": [
    {
      "cell_type": "markdown",
      "metadata": {
        "id": "view-in-github",
        "colab_type": "text"
      },
      "source": [
        "<a href=\"https://colab.research.google.com/github/rodrigospereira22/ProjetoEspectroAutista/blob/main/EspectroAutista.ipynb\" target=\"_parent\"><img src=\"https://colab.research.google.com/assets/colab-badge.svg\" alt=\"Open In Colab\"/></a>"
      ]
    },
    {
      "cell_type": "markdown",
      "source": [
        "# Projeto Posso estar no Espectro?\n",
        "\n",
        "Projeto para saber a possibilidade da pessoa estar no espectro autista e tirar duvidas sobre o assunto\n"
      ],
      "metadata": {
        "id": "-3SuRsUymWNz"
      }
    },
    {
      "cell_type": "code",
      "execution_count": 3,
      "metadata": {
        "id": "e_DzpTaWmTGi"
      },
      "outputs": [],
      "source": [
        "!pip install -q -U google-generativeai"
      ]
    },
    {
      "cell_type": "code",
      "source": [
        "import google.generativeai as genai\n",
        "import textwrap\n",
        "\n",
        "from IPython.display import display\n",
        "from IPython.display import Markdown\n",
        "\n",
        "\n",
        "def to_markdown(text):\n",
        "  text = text.replace('•', '  *')\n",
        "  return Markdown(textwrap.indent(text, '> ', predicate=lambda _: True))"
      ],
      "metadata": {
        "id": "5LGwUthImvZH"
      },
      "execution_count": 4,
      "outputs": []
    },
    {
      "cell_type": "markdown",
      "source": [
        "Gera a conexao com o genai"
      ],
      "metadata": {
        "id": "EGpjd-OPnmgD"
      }
    },
    {
      "cell_type": "code",
      "source": [
        "# Or use `os.getenv('GOOGLE_API_KEY')` to fetch an environment variable.\n",
        "from google.colab import userdata\n",
        "\n",
        "\n",
        "GOOGLE_API_KEY=userdata.get('api_key')\n",
        "\n",
        "genai.configure(api_key=GOOGLE_API_KEY)\n",
        "model = genai.GenerativeModel(model_name='gemini-1.0-pro')"
      ],
      "metadata": {
        "id": "iLoepogYnbSW"
      },
      "execution_count": 5,
      "outputs": []
    },
    {
      "cell_type": "markdown",
      "source": [
        "Ensina e Configura o prompt para gerar as questões que serão exibidas na tela, é montado um padrão para utilizar uma expressão regular\n"
      ],
      "metadata": {
        "id": "n4NF7qK0o6kP"
      }
    },
    {
      "cell_type": "code",
      "source": [
        "# Defina o prompt\n",
        "prompt = \"\"\"**Pergunta 1:** Você tem ou já teve prejuízos na comunicação de maneira geral, como não saber como se expressar, ou não saber o que falar no contexto social?\n",
        "\n",
        "* (A) Concordo plenamente(80%)\n",
        "* (B) Concordo um pouco (50%)\n",
        "* (C) Discordo um pouco (15%)\n",
        "* (D) Discordo plenamente (0%)\n",
        "\n",
        "**Pergunta 2:** ocê tem dificuldade ou sente-se constrangido(a) em manter contato visual (curto ou longo prazo)?\n",
        "\n",
        "* (A) Concordo plenamente(80%)\n",
        "* (B) Concordo um pouco (50%)\n",
        "* (C) Discordo um pouco (15%)\n",
        "* (D) Discordo plenamente (0%)\n",
        "\n",
        "O padrao acima é só um modelo de como voce deve responder, comece a gerar da pergunta 1 e gere 10 perguntas.\n",
        "Essas perguntas deve ser como se fosse um psicoterapeuta perguntando,  e as probabilidades percentuais de cada resposta corresponder ao espectro do autismo.\"\"\"\n",
        "\n",
        "# Gere o conteúdo usando generate_text com o prompt\n",
        "texto_resposta = model.generate_content(prompt)"
      ],
      "metadata": {
        "id": "tlTfcT5F1yyY"
      },
      "execution_count": 6,
      "outputs": []
    },
    {
      "cell_type": "markdown",
      "source": [
        "Lê a resposta gerada, faz um laço para ir exibindo e pontuando no final"
      ],
      "metadata": {
        "id": "TWciHStmNBMZ"
      }
    },
    {
      "cell_type": "code",
      "source": [
        "import re\n",
        "perguntas = []\n",
        "# Encontrar cada bloco de pergunta\n",
        "\n",
        "total_probabilidade = 0\n",
        "for match in re.finditer(r\"\\*\\*Pergunta (\\d+):\\*\\*(.*)\\n(?:\\s*\\* \\([A-E]\\) (.*?) \\((.*?)%\\)\\n)*\", texto_resposta.text):\n",
        "    pergunta_dict = {\n",
        "        \"numero\": match.group(1),\n",
        "        \"texto\": match.group(2),\n",
        "        \"opcoes\": []\n",
        "    }\n",
        "\n",
        "    # Dividir o texto da pergunta em linhas\n",
        "    linhas_opcoes = match.group(0).strip().split('\\n')\n",
        "\n",
        "    # Extrair informações de cada linha de opção\n",
        "    for linha in linhas_opcoes:\n",
        "        if linha.startswith(\"* (\"):\n",
        "            letra, texto, porcentagem = re.match(r\"\\* \\(([A-E])\\) (.*) \\((.*?)%\\)\", linha).groups()\n",
        "            pergunta_dict[\"opcoes\"].append({\n",
        "                \"letra\": letra,\n",
        "                \"texto\": texto.strip(),\n",
        "                \"probabilidade\": int(porcentagem) / 100\n",
        "            })\n",
        "\n",
        "    perguntas.append(pergunta_dict)\n",
        "\n",
        "# Apresentar as perguntas e obter input do usuário\n",
        "for pergunta in perguntas:\n",
        "    print(f\"Pergunta {pergunta['numero']}: {pergunta['texto']}\")\n",
        "    for opcao in pergunta[\"opcoes\"]:\n",
        "        print(f\"  {opcao['letra']}. {opcao['texto']}\")\n",
        "\n",
        "    resposta_usuario = input(\"Sua resposta (A-D): \")\n",
        "\n",
        "    # ... (validação de input opcional) ...\n",
        "\n",
        "    # Encontrar a resposta completa correspondente à escolha do usuário\n",
        "    resposta_escolhida = next((opcao for opcao in pergunta[\"opcoes\"] if opcao[\"letra\"] == resposta_usuario.upper()), None)\n",
        "\n",
        "\n",
        "    if resposta_escolhida:\n",
        "        print(f\"\\nVocê escolheu: {resposta_escolhida['texto']} ({resposta_escolhida['probabilidade'] * 100:.0f}%)\")\n",
        "    else:\n",
        "        print(\"\\nResposta inválida.\")\n",
        "\n",
        "    if resposta_escolhida:\n",
        "        total_probabilidade += resposta_escolhida[\"probabilidade\"]\n",
        "   # else:\n",
        "        #print(\"\\nResposta inválida. Assumindo probabilidade 0 para esta pergunta.\")\n",
        "\n",
        "    print()  # Adicionar uma linha em branco entre as perguntas\n",
        "\n",
        "media_probabilidade = total_probabilidade / len(perguntas)\n",
        "\n",
        "# Exibir a probabilidade estatística\n",
        "print(f\"\\nProbabilidade estatística de autismo: {media_probabilidade * 100:.2f}%\")"
      ],
      "metadata": {
        "colab": {
          "base_uri": "https://localhost:8080/"
        },
        "id": "IIKQqUia7iO4",
        "outputId": "e304d1d4-5c4e-4fa6-b342-7e1e9ce4d522"
      },
      "execution_count": null,
      "outputs": [
        {
          "output_type": "stream",
          "name": "stdout",
          "text": [
            "Pergunta 1:  Você sente dificuldade em entender as expressões faciais e tons de voz das outras pessoas?\n",
            "  A. Concordo plenamente\n",
            "  B. Concordo um pouco\n",
            "  C. Discordo um pouco\n",
            "  D. Discordo plenamente\n",
            "Sua resposta (A-E): a\n",
            "\n",
            "Você escolheu: Concordo plenamente (80%)\n",
            "\n",
            "Pergunta 2:  Você tem dificuldade em compreender o sarcasmo ou piadas que dependem do contexto social?\n",
            "  A. Concordo plenamente\n",
            "  B. Concordo um pouco\n",
            "  C. Discordo um pouco\n",
            "  D. Discordo plenamente\n",
            "Sua resposta (A-E): b\n",
            "\n",
            "Você escolheu: Concordo um pouco (50%)\n",
            "\n",
            "Pergunta 3:  Você prefere atividades solitárias ou tem dificuldade em se envolver em atividades sociais?\n",
            "  A. Concordo plenamente\n",
            "  B. Concordo um pouco\n",
            "  C. Discordo um pouco\n",
            "  D. Discordo plenamente\n",
            "Sua resposta (A-E): c\n",
            "\n",
            "Você escolheu: Discordo um pouco (15%)\n",
            "\n",
            "Pergunta 4:  Você tem dificuldade em se adaptar a mudanças nas rotinas ou horários?\n",
            "  A. Concordo plenamente\n",
            "  B. Concordo um pouco\n",
            "  C. Discordo um pouco\n",
            "  D. Discordo plenamente\n",
            "Sua resposta (A-E): a\n",
            "\n",
            "Você escolheu: Concordo plenamente (80%)\n",
            "\n",
            "Pergunta 5:  Você tem movimentos repetitivos ou estereotipados, como balançar as mãos ou andar em círculos?\n",
            "  A. Concordo plenamente\n",
            "  B. Concordo um pouco\n",
            "  C. Discordo um pouco\n",
            "  D. Discordo plenamente\n",
            "Sua resposta (A-E): d\n",
            "\n",
            "Você escolheu: Discordo plenamente (0%)\n",
            "\n",
            "Pergunta 6:  Você tem interesses altamente focados e limitados em determinados tópicos?\n",
            "  A. Concordo plenamente\n",
            "  B. Concordo um pouco\n",
            "  C. Discordo um pouco\n",
            "  D. Discordo plenamente\n",
            "Sua resposta (A-E): a\n",
            "\n",
            "Você escolheu: Concordo plenamente (80%)\n",
            "\n",
            "Pergunta 7:  Você tem dificuldade em expressar seus pensamentos e emoções de forma adequada?\n",
            "  A. Concordo plenamente\n",
            "  B. Concordo um pouco\n",
            "  C. Discordo um pouco\n",
            "  D. Discordo plenamente\n",
            "Sua resposta (A-E): c\n",
            "\n",
            "Você escolheu: Discordo um pouco (15%)\n",
            "\n",
            "Pergunta 8:  Você tem dificuldade em regular suas emoções e fica facilmente sobrecarregado sensorialmente?\n",
            "  A. Concordo plenamente\n",
            "  B. Concordo um pouco\n",
            "  C. Discordo um pouco\n",
            "  D. Discordo plenamente\n",
            "Sua resposta (A-E): a\n",
            "\n",
            "Você escolheu: Concordo plenamente (80%)\n",
            "\n",
            "Pergunta 9:  Você tem dificuldade em compreender ou se envolver em reciprocidade social, como compartilhar interesses ou pedir ajuda?\n",
            "  A. Concordo plenamente\n",
            "  B. Concordo um pouco\n",
            "  C. Discordo um pouco\n",
            "  D. Discordo plenamente\n",
            "Sua resposta (A-E): b\n",
            "\n",
            "Você escolheu: Concordo um pouco (50%)\n",
            "\n",
            "Pergunta 10:  Você tem dificuldade em compreender ou responder às pistas sociais e sinais não verbais?\n",
            "  A. Concordo plenamente\n",
            "  B. Concordo um pouco\n",
            "  C. Discordo um pouco\n",
            "Sua resposta (A-E): d\n",
            "\n",
            "Resposta inválida.\n",
            "\n",
            "\n",
            "Probabilidade estatística de autismo: 45.00%\n"
          ]
        }
      ]
    },
    {
      "cell_type": "markdown",
      "source": [
        "Faz o modelo gerar um aviso para apresentar no final do questionario"
      ],
      "metadata": {
        "id": "PpWAYKAyNh9n"
      }
    },
    {
      "cell_type": "code",
      "source": [
        "prompt = \"Gere um aviso que um questionario respondido para saber se uma pessoa é autista não é preciso e em caso de duvidas deve procurar um profissional qualificado\"\n",
        "aviso = model.generate_content(prompt)\n",
        "display(to_markdown(aviso.text))\n"
      ],
      "metadata": {
        "colab": {
          "base_uri": "https://localhost:8080/",
          "height": 190
        },
        "id": "4590YyvHNLjj",
        "outputId": "51cc5339-a406-4575-93ea-d5298d933a78"
      },
      "execution_count": null,
      "outputs": [
        {
          "output_type": "display_data",
          "data": {
            "text/plain": [
              "<IPython.core.display.Markdown object>"
            ],
            "text/markdown": "> **Aviso Importante**\n> \n> O questionário que você respondeu não é um diagnóstico confiável de autismo.\n> \n> Os resultados deste questionário não devem ser interpretados como um diagnóstico definitivo.\n> \n> Se você tiver preocupações sobre possíveis sintomas de autismo, é crucial procurar orientação profissional de um médico, psicólogo ou outro profissional de saúde qualificado.\n> \n> Os profissionais de saúde podem fornecer avaliações abrangentes e diagnósticos precisos, levando em consideração todos os aspectos relevantes, incluindo histórico de desenvolvimento, observações clínicas e informações de várias fontes."
          },
          "metadata": {}
        }
      ]
    }
  ]
}